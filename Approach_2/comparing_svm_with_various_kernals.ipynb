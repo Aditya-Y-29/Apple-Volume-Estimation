{
 "cells": [
  {
   "cell_type": "code",
   "execution_count": 63,
   "id": "f5a28174-b889-4349-8f11-fa745d59d211",
   "metadata": {},
   "outputs": [
    {
     "data": {
      "text/plain": [
       "'\\n    Comparing SVMR performance across different kernel functions.\\n'"
      ]
     },
     "execution_count": 63,
     "metadata": {},
     "output_type": "execute_result"
    }
   ],
   "source": [
    "\"\"\"\n",
    "    Comparing SVMR performance across different kernel functions.\n",
    "\"\"\""
   ]
  },
  {
   "cell_type": "code",
   "execution_count": 64,
   "id": "692b678e-d9a4-4373-8b06-482b66b75750",
   "metadata": {},
   "outputs": [],
   "source": [
    "import warnings\n",
    "warnings.filterwarnings(\"ignore\")"
   ]
  },
  {
   "cell_type": "code",
   "execution_count": 65,
   "id": "3f52ecf1-8f8a-43bf-b12d-c247a17fca0f",
   "metadata": {},
   "outputs": [],
   "source": [
    "import pandas as pd\n",
    "import numpy as np\n",
    "from sklearn.model_selection import train_test_split\n",
    "from sklearn.metrics import mean_squared_error, mean_absolute_error\n",
    "from sklearn.svm import SVR\n",
    "from sklearn.gaussian_process import GaussianProcessRegressor\n",
    "from sklearn.gaussian_process.kernels import ExpSineSquared, RationalQuadratic, Matern, RBF\n",
    "import matplotlib.pyplot as plt"
   ]
  },
  {
   "cell_type": "code",
   "execution_count": 66,
   "id": "e98310e1-ed8d-461f-b43e-b5ee4aedd480",
   "metadata": {},
   "outputs": [],
   "source": [
    "df = pd.read_csv('../Data/avg_fitted_ellipse_parameter_and_true_volume.csv')  "
   ]
  },
  {
   "cell_type": "code",
   "execution_count": 67,
   "id": "6bdceac6-0d6b-46fd-8c74-4e1804e66b00",
   "metadata": {},
   "outputs": [],
   "source": [
    "columns = ['apple_label', 'semi_major_axis', 'semi_minor_axis', 'area', 'perimeter', 'eccentricity', 'volume']\n",
    "\n",
    "column_dict = {\n",
    "    0: 'semi_major_axis',\n",
    "    1: 'semi_minor_axis',\n",
    "    2: 'area',\n",
    "    3: 'perimeter',\n",
    "    4: 'eccentricity'\n",
    "}\n",
    "\n",
    "seeds = [0, 10, 20, 30, 40]"
   ]
  },
  {
   "cell_type": "code",
   "execution_count": 68,
   "id": "1550b584-b0fa-4e51-a33a-e686bc26adfe",
   "metadata": {},
   "outputs": [],
   "source": [
    "def mean_absolute_percentage_error(y_true, y_pred):\n",
    "    return np.mean(np.abs((y_true - y_pred) / y_true)) * 100"
   ]
  },
  {
   "cell_type": "code",
   "execution_count": 69,
   "id": "237c7f48-1782-4c7f-a379-e56f67d36b75",
   "metadata": {},
   "outputs": [],
   "source": [
    "# -------------------------------------------------------------------------------------------------------------\n",
    "# -------------------------------------------------------------------------------------------------------------\n",
    "# ------------------------------------------- Linear Kernal ---------------------------------------------------\n",
    "# -------------------------------------------------------------------------------------------------------------\n",
    "# -------------------------------------------------------------------------------------------------------------"
   ]
  },
  {
   "cell_type": "code",
   "execution_count": 70,
   "id": "2055f168-f2e8-4769-acb8-9402ce26b3ab",
   "metadata": {},
   "outputs": [],
   "source": [
    "kernals = ['Linear', 'Guassian', 'Polynomial', 'Exponential', 'Rational Quadratic', 'Maxtern', 'Sq. Exponential'] \n",
    "rmses_per_kernal = []\n",
    "mpes_per_kernal = []"
   ]
  },
  {
   "cell_type": "code",
   "execution_count": 71,
   "id": "cfc27fa9-d576-4b6b-b9b6-76abc21e4b11",
   "metadata": {},
   "outputs": [],
   "source": [
    "X = df.drop(columns = ['apple_label', 'area', 'volume']).values.tolist() \n",
    "y = df['volume'].values.tolist()  \n",
    "\n",
    "rmses = np.empty(0)\n",
    "mpes = np.empty(0)\n",
    "\n",
    "for i in range(len(seeds)):\n",
    "\n",
    "    seed = seeds[i]\n",
    "    X_train, X_test, y_train, y_test = train_test_split(X, y, test_size=0.2, random_state=seed)\n",
    "\n",
    "    svr_model = SVR(kernel='linear')\n",
    "    svr_model.fit(X_train, y_train)\n",
    "    y_pred = svr_model.predict(X_test)\n",
    "\n",
    "    rmse = np.sqrt(mean_squared_error(y_test, y_pred))\n",
    "    mpe = mean_absolute_percentage_error(y_test, y_pred)\n",
    "\n",
    "    rmses = np.append(rmses, rmse)\n",
    "    mpes = np.append(mpes, mpe)\n",
    "\n",
    "rmses_per_kernal.append(round(np.mean(rmses), 3))\n",
    "mpes_per_kernal.append(round(np.mean(mpes), 3))"
   ]
  },
  {
   "cell_type": "code",
   "execution_count": 72,
   "id": "0ab1791c-2561-4d25-b421-f9bc8d8aaaf2",
   "metadata": {},
   "outputs": [],
   "source": [
    "X = df.drop(columns = ['apple_label', 'area', 'volume']).values.tolist() \n",
    "y = df['volume'].values.tolist()  \n",
    "\n",
    "rmses = np.empty(0)\n",
    "mpes = np.empty(0)\n",
    "\n",
    "for i in range(len(seeds)):\n",
    "\n",
    "    seed = seeds[i]\n",
    "    X_train, X_test, y_train, y_test = train_test_split(X, y, test_size=0.2, random_state=seed)\n",
    "\n",
    "    svr_model = SVR(kernel='rbf')\n",
    "    svr_model.fit(X_train, y_train)\n",
    "    y_pred = svr_model.predict(X_test)\n",
    "\n",
    "    rmse = np.sqrt(mean_squared_error(y_test, y_pred))\n",
    "    mpe = mean_absolute_percentage_error(y_test, y_pred)\n",
    "\n",
    "    rmses = np.append(rmses, rmse)\n",
    "    mpes = np.append(mpes, mpe)\n",
    "\n",
    "rmses_per_kernal.append(round(np.mean(rmses), 3))\n",
    "mpes_per_kernal.append(round(np.mean(mpes), 3))"
   ]
  },
  {
   "cell_type": "code",
   "execution_count": 73,
   "id": "0956f147-28ee-436e-8912-ebcc4c60b56c",
   "metadata": {},
   "outputs": [],
   "source": [
    "X = df.drop(columns = ['apple_label', 'area', 'volume']).values.tolist() \n",
    "y = df['volume'].values.tolist()  \n",
    "\n",
    "rmses = np.empty(0)\n",
    "mpes = np.empty(0)\n",
    "\n",
    "for i in range(len(seeds)):\n",
    "\n",
    "    seed = seeds[i]\n",
    "    X_train, X_test, y_train, y_test = train_test_split(X, y, test_size=0.2, random_state=seed)\n",
    "\n",
    "    svr_model = SVR(kernel='poly', degree=3)\n",
    "    svr_model.fit(X_train, y_train)\n",
    "    y_pred = svr_model.predict(X_test)\n",
    "\n",
    "    rmse = np.sqrt(mean_squared_error(y_test, y_pred))\n",
    "    mpe = mean_absolute_percentage_error(y_test, y_pred)\n",
    "\n",
    "    rmses = np.append(rmses, rmse)\n",
    "    mpes = np.append(mpes, mpe)\n",
    "\n",
    "rmses_per_kernal.append(round(np.mean(rmses), 3))\n",
    "mpes_per_kernal.append(round(np.mean(mpes), 3))"
   ]
  },
  {
   "cell_type": "code",
   "execution_count": null,
   "id": "6aaa7b33-c84e-4848-85cf-774ec5692c1d",
   "metadata": {},
   "outputs": [],
   "source": [
    "X = df.drop(columns = ['apple_label', 'area', 'volume']).values.tolist() \n",
    "y = df['volume'].values.tolist()  \n",
    "\n",
    "rmses = np.empty(0)\n",
    "mpes = np.empty(0)\n",
    "\n",
    "for i in range(len(seeds)):\n",
    "\n",
    "    seed = seeds[i]\n",
    "    X_train, X_test, y_train, y_test = train_test_split(X, y, test_size=0.2, random_state=seed)\n",
    "\n",
    "    kernel = ExpSineSquared(length_scale=1.0, periodicity=1.0)\n",
    "        \n",
    "    alpha = 1e-6  \n",
    "    while True:\n",
    "        try:\n",
    "            gpr = GaussianProcessRegressor(kernel=kernel, alpha=alpha, random_state=0)\n",
    "            gpr.fit(X_train, y_train)\n",
    "            break  \n",
    "        except Exception as e:\n",
    "            alpha *= 10 \n",
    "\n",
    "    y_pred, sigma = gpr.predict(X_test, return_std=True)\n",
    "\n",
    "    rmse = np.sqrt(mean_squared_error(y_test, y_pred))\n",
    "    mpe = mean_absolute_percentage_error(y_test, y_pred)\n",
    "\n",
    "    rmses = np.append(rmses, rmse)\n",
    "    mpes = np.append(mpes, mpe)\n",
    "\n",
    "rmses_per_kernal.append(round(np.mean(rmses), 3))\n",
    "mpes_per_kernal.append(round(np.mean(mpes), 3))"
   ]
  },
  {
   "cell_type": "code",
   "execution_count": null,
   "id": "a8f8200e-57ee-4a55-b22a-7d2d417f6e5b",
   "metadata": {},
   "outputs": [],
   "source": [
    "X = df.drop(columns = ['apple_label', 'area', 'volume']).values.tolist() \n",
    "y = df['volume'].values.tolist()  \n",
    "\n",
    "rmses = np.empty(0)\n",
    "mpes = np.empty(0)\n",
    "\n",
    "for i in range(len(seeds)):\n",
    "\n",
    "    seed = seeds[i]\n",
    "    X_train, X_test, y_train, y_test = train_test_split(X, y, test_size=0.2, random_state=seed)\n",
    "\n",
    "    kernel = RationalQuadratic(length_scale=1.0, alpha=1.0)\n",
    "\n",
    "    gpr = GaussianProcessRegressor(kernel=kernel, random_state=0)\n",
    "    gpr.fit(X_train, y_train)\n",
    "    y_pred, sigma = gpr.predict(X_test, return_std=True)\n",
    "\n",
    "    rmse = np.sqrt(mean_squared_error(y_test, y_pred))\n",
    "    mpe = mean_absolute_percentage_error(y_test, y_pred)\n",
    "\n",
    "    rmses = np.append(rmses, rmse)\n",
    "    mpes = np.append(mpes, mpe)\n",
    "\n",
    "rmses_per_kernal.append(round(np.mean(rmses), 3))\n",
    "mpes_per_kernal.append(round(np.mean(mpe), 3))"
   ]
  },
  {
   "cell_type": "code",
   "execution_count": null,
   "id": "e6e5b74b-42e8-491f-8f3a-10666ad51745",
   "metadata": {},
   "outputs": [],
   "source": [
    "X = df.drop(columns = ['apple_label', 'area', 'volume']).values.tolist() \n",
    "y = df['volume'].values.tolist()  \n",
    "\n",
    "rmses = np.empty(0)\n",
    "mpes = np.empty(0)\n",
    "\n",
    "for i in range(len(seeds)):\n",
    "\n",
    "    seed = seeds[i]\n",
    "    X_train, X_test, y_train, y_test = train_test_split(X, y, test_size=0.2, random_state=seed)\n",
    "\n",
    "    kernel = Matern(length_scale=1.0, nu=2.5)\n",
    "\n",
    "    gpr = GaussianProcessRegressor(kernel=kernel, random_state=0)\n",
    "    gpr.fit(X_train, y_train)\n",
    "    y_pred, sigma = gpr.predict(X_test, return_std=True)\n",
    "\n",
    "    rmse = np.sqrt(mean_squared_error(y_test, y_pred))\n",
    "    mpe = mean_absolute_percentage_error(y_test, y_pred)\n",
    "\n",
    "    rmses = np.append(rmses, rmse)\n",
    "    mpes = np.append(mpes, mpe)\n",
    "\n",
    "rmses_per_kernal.append(round(np.mean(rmses), 3))\n",
    "mpes_per_kernal.append(round(np.mean(mpes), 3))"
   ]
  },
  {
   "cell_type": "code",
   "execution_count": null,
   "id": "edc34d0e-1550-4e82-a5e0-ef6b8020d6ec",
   "metadata": {},
   "outputs": [],
   "source": [
    "X = df.drop(columns = ['apple_label', 'area', 'volume']).values.tolist() \n",
    "y = df['volume'].values.tolist()  \n",
    "\n",
    "rmses = np.empty(0)\n",
    "mpes = np.empty(0)\n",
    "\n",
    "for i in range(len(seeds)):\n",
    "\n",
    "    seed = seeds[i]\n",
    "    X_train, X_test, y_train, y_test = train_test_split(X, y, test_size=0.2, random_state=seed)\n",
    "\n",
    "    kernel = RBF(length_scale=1.0)\n",
    "\n",
    "    gpr = GaussianProcessRegressor(kernel=kernel, random_state=0)\n",
    "    gpr.fit(X_train, y_train)\n",
    "    y_pred, sigma = gpr.predict(X_test, return_std=True)\n",
    "\n",
    "    rmse = np.sqrt(mean_squared_error(y_test, y_pred))\n",
    "    mpe = mean_absolute_percentage_error(y_test, y_pred)\n",
    "\n",
    "    rmses = np.append(rmses, rmse)\n",
    "    mpes = np.append(mpes, mpe)\n",
    "\n",
    "rmses_per_kernal.append(round(np.mean(rmses), 3))\n",
    "mpes_per_kernal.append(round(np.mean(mpes), 3))"
   ]
  },
  {
   "cell_type": "code",
   "execution_count": null,
   "id": "213abeca-9258-4d92-85de-8b54246157b4",
   "metadata": {},
   "outputs": [],
   "source": [
    "def plot_data(list1, list2, y_label, x_label, title):\n",
    "    plt.bar(list1, list2, color='green', width=0.5)\n",
    "    plt.xlabel(x_label)\n",
    "    plt.ylabel(y_label)\n",
    "    plt.title(title)\n",
    "    plt.xticks(rotation=45)\n",
    "    plt.show()"
   ]
  },
  {
   "cell_type": "code",
   "execution_count": null,
   "id": "826b04b5-5afb-42f4-b067-7dc160bb3bee",
   "metadata": {},
   "outputs": [],
   "source": [
    "print(rmses_per_kernal)\n",
    "plot_data(kernals, rmses_per_kernal, 'RMSE', 'Kernal', 'RMSE vs Kernal')"
   ]
  },
  {
   "cell_type": "code",
   "execution_count": null,
   "id": "0d65249b-c564-4a69-9333-5ca74c29b167",
   "metadata": {},
   "outputs": [],
   "source": [
    "plot_data(kernals, mpes_per_kernal, 'MPE', 'Kernal', 'MPE vs Kernal')"
   ]
  },
  {
   "cell_type": "code",
   "execution_count": null,
   "id": "f9e33915-7c73-4896-9810-0a727f112534",
   "metadata": {},
   "outputs": [],
   "source": []
  }
 ],
 "metadata": {
  "kernelspec": {
   "display_name": "Python 3 (ipykernel)",
   "language": "python",
   "name": "python3"
  },
  "language_info": {
   "codemirror_mode": {
    "name": "ipython",
    "version": 3
   },
   "file_extension": ".py",
   "mimetype": "text/x-python",
   "name": "python",
   "nbconvert_exporter": "python",
   "pygments_lexer": "ipython3",
   "version": "3.10.12"
  }
 },
 "nbformat": 4,
 "nbformat_minor": 5
}
