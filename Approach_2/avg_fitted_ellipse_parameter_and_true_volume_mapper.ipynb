{
 "cells": [
  {
   "cell_type": "code",
   "execution_count": 72,
   "id": "fe2fab40-bed8-4e99-891e-d038499e3df9",
   "metadata": {},
   "outputs": [],
   "source": [
    "import warnings\n",
    "warnings.filterwarnings(\"ignore\")"
   ]
  },
  {
   "cell_type": "code",
   "execution_count": 73,
   "id": "c28c4640-173d-41d7-beec-d00b523943b9",
   "metadata": {},
   "outputs": [],
   "source": [
    "import pandas as pd\n",
    "import re"
   ]
  },
  {
   "cell_type": "code",
   "execution_count": 74,
   "id": "88ccfc11-9f04-4a42-9a47-45adaf72694d",
   "metadata": {},
   "outputs": [],
   "source": [
    "def csv_to_dataframe(file_path):\n",
    "    return pd.read_csv(file_path)"
   ]
  },
  {
   "cell_type": "code",
   "execution_count": 75,
   "id": "15db017c-dad0-4839-befe-880a255d9e77",
   "metadata": {},
   "outputs": [],
   "source": [
    "def dataframe_columns_to_dict(df_apple_volume_mapper, key_column, value_column):\n",
    "    return df_apple_volume_mapper.set_index(key_column)[value_column].to_dict()"
   ]
  },
  {
   "cell_type": "code",
   "execution_count": 76,
   "id": "c3ca95b9-30be-4abe-931c-a08707a707c2",
   "metadata": {},
   "outputs": [],
   "source": [
    "file_path = '../Data/fitted_ellipse_parameter.csv'  \n",
    "df_fitted_ellipse_per_view = csv_to_dataframe(file_path)"
   ]
  },
  {
   "cell_type": "code",
   "execution_count": 77,
   "id": "e1d7efef-e44a-4372-8b42-67d6b8b88c6e",
   "metadata": {},
   "outputs": [],
   "source": [
    "file_path = '../Data/apple_volume_mapper.csv'  \n",
    "df_apple_volume_mapper = csv_to_dataframe(file_path)"
   ]
  },
  {
   "cell_type": "code",
   "execution_count": 78,
   "id": "a45ac20c-7146-4e4a-9d01-26287ab5993a",
   "metadata": {},
   "outputs": [],
   "source": [
    "apple_volumn_mapper_dict = dataframe_columns_to_dict(df_apple_volume_mapper, 'Apple No.', 'Volume')"
   ]
  },
  {
   "cell_type": "code",
   "execution_count": 79,
   "id": "b2550568-f53c-4476-89aa-c6450cb8669e",
   "metadata": {},
   "outputs": [],
   "source": [
    "data = {\n",
    "    'apple_label': [],\n",
    "    'semi_major_axis': [],\n",
    "    'semi_minor_axis': [],\n",
    "    'area': [],\n",
    "    'perimeter': [],\n",
    "    'volume': [],\n",
    "}\n",
    "avg_fitted_ellipse_parameter = pd.DataFrame(data)"
   ]
  },
  {
   "cell_type": "code",
   "execution_count": 80,
   "id": "dbb57145-0acd-44f1-b8be-dc85fd6444c7",
   "metadata": {},
   "outputs": [],
   "source": [
    "for i in range(1, 201):\n",
    "    \n",
    "    avg_semi_major_axis = 0\n",
    "    avg_semi_minor_axis = 0\n",
    "    avg_perimeter = 0\n",
    "    avg_area = 0\n",
    "    volume = 0\n",
    "    count_views = 0\n",
    "    \n",
    "    for index, row in df_fitted_ellipse_per_view.iterrows():\n",
    "        apple_idx = re.findall(r'\\d+', row['apple_label'])\n",
    "        if int(apple_idx[0]) == i:\n",
    "            count_views +=1\n",
    "            avg_semi_major_axis += row['semi_major_axis']\n",
    "            avg_semi_minor_axis += row['semi_minor_axis']\n",
    "            avg_perimeter += row['perimeter']\n",
    "            avg_area += row['area']\n",
    "            apple_label = float(re.sub(r'\\D', '', row['apple_label']))\n",
    "            \n",
    "    if count_views == 0:\n",
    "        continue\n",
    "    avg_semi_major_axis /= count_views\n",
    "    avg_semi_minor_axis /= count_views\n",
    "    avg_perimeter /= count_views\n",
    "    avg_area /= count_views\n",
    "    volume = apple_volumn_mapper_dict[apple_label]\n",
    "\n",
    "    new_row = {'apple_label': i, 'semi_major_axis': avg_semi_major_axis, 'semi_minor_axis': avg_semi_minor_axis, 'area': avg_area, 'perimeter': avg_perimeter, 'volume': volume}\n",
    "    new_row_df = pd.DataFrame([new_row])\n",
    "    avg_fitted_ellipse_parameter = pd.concat([avg_fitted_ellipse_parameter, new_row_df], ignore_index=True)"
   ]
  },
  {
   "cell_type": "code",
   "execution_count": 85,
   "id": "6a33f4da-193c-4e81-99d1-f0d815e633e7",
   "metadata": {},
   "outputs": [],
   "source": [
    "avg_fitted_ellipse_parameter = avg_fitted_ellipse_parameter.round(2)\n",
    "avg_fitted_ellipse_parameter['apple_label'] = avg_fitted_ellipse_parameter['apple_label'].astype(int)"
   ]
  },
  {
   "cell_type": "code",
   "execution_count": 86,
   "id": "aa74f1a3-a6ec-4294-bbde-8332baad0a37",
   "metadata": {},
   "outputs": [],
   "source": [
    "avg_fitted_ellipse_parameter.to_csv('../Data/avg_fitted_ellipse_parameter_and_true_volume.csv', index=False)"
   ]
  },
  {
   "cell_type": "code",
   "execution_count": null,
   "id": "d28d9af1-40d4-49d6-813e-9e1f27f8119f",
   "metadata": {},
   "outputs": [],
   "source": []
  }
 ],
 "metadata": {
  "kernelspec": {
   "display_name": "Python 3 (ipykernel)",
   "language": "python",
   "name": "python3"
  },
  "language_info": {
   "codemirror_mode": {
    "name": "ipython",
    "version": 3
   },
   "file_extension": ".py",
   "mimetype": "text/x-python",
   "name": "python",
   "nbconvert_exporter": "python",
   "pygments_lexer": "ipython3",
   "version": "3.10.12"
  }
 },
 "nbformat": 4,
 "nbformat_minor": 5
}
