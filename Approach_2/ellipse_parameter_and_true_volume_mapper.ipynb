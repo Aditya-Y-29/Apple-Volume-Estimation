{
 "cells": [
  {
   "cell_type": "code",
   "execution_count": 82,
   "id": "3e7a3605-058b-474c-8d92-2c63634d3553",
   "metadata": {},
   "outputs": [],
   "source": [
    "import warnings\n",
    "warnings.filterwarnings(\"ignore\")"
   ]
  },
  {
   "cell_type": "code",
   "execution_count": 83,
   "id": "5b76aa36-ab8c-4908-8ada-e87519a1ac56",
   "metadata": {},
   "outputs": [],
   "source": [
    "import pandas as pd\n",
    "import re"
   ]
  },
  {
   "cell_type": "code",
   "execution_count": 84,
   "id": "4ec4b2a8-5d96-448d-8317-41791bee8117",
   "metadata": {},
   "outputs": [],
   "source": [
    "def csv_to_dataframe(file_path):\n",
    "    return pd.read_csv(file_path)"
   ]
  },
  {
   "cell_type": "code",
   "execution_count": 85,
   "id": "ffe1317e-1697-44f8-9679-e0e47b0565e3",
   "metadata": {},
   "outputs": [],
   "source": [
    "file_path = '../Data/fitted_ellipse_parameter.csv'  \n",
    "df_fitted_ellipse = csv_to_dataframe(file_path)"
   ]
  },
  {
   "cell_type": "code",
   "execution_count": 86,
   "id": "842620d6-31f1-4d89-8a29-8622cb8e5e6a",
   "metadata": {},
   "outputs": [],
   "source": [
    "file_path = '../Data/apple_volume_mapper.csv'  \n",
    "df_apple_volume_mapper = csv_to_dataframe(file_path)"
   ]
  },
  {
   "cell_type": "code",
   "execution_count": 87,
   "id": "80beca52-88a6-4630-9331-79dc9ed74509",
   "metadata": {},
   "outputs": [],
   "source": [
    "def columns_to_dict(df_apple_volume_mapper, key_column, value_column):\n",
    "    return df_apple_volume_mapper.set_index(key_column)[value_column].to_dict()"
   ]
  },
  {
   "cell_type": "code",
   "execution_count": 88,
   "id": "a15978d0-d777-4b0f-ab77-230e6a0383ea",
   "metadata": {},
   "outputs": [],
   "source": [
    "apple_volumn_mapper_dict = columns_to_dict(df_apple_volume_mapper, 'Apple No.', 'Volume')"
   ]
  },
  {
   "cell_type": "code",
   "execution_count": 89,
   "id": "728053e6-0530-4573-a4a0-47d92dc8160d",
   "metadata": {},
   "outputs": [],
   "source": [
    "df_fitted_ellipse['Volume'] = 0"
   ]
  },
  {
   "cell_type": "code",
   "execution_count": 90,
   "id": "c8a0aafc-9726-40be-80b1-b7bf1e2dc1d7",
   "metadata": {},
   "outputs": [],
   "source": [
    "for index, row in df_fitted_ellipse.iterrows():\n",
    "    apple_label = float(re.sub(r'\\D', '', row['apple_label']))\n",
    "    df_fitted_ellipse.at[index, 'Volume'] = apple_volumn_mapper_dict[apple_label]"
   ]
  },
  {
   "cell_type": "code",
   "execution_count": 91,
   "id": "96ea3188-8afc-4fcb-8469-f8894a6f57b2",
   "metadata": {},
   "outputs": [],
   "source": [
    "file_path = '../Data/fitted_ellipse_parameter_and_true_volumn_mapper.csv'\n",
    "df_fitted_ellipse.to_csv(file_path, index=False)"
   ]
  },
  {
   "cell_type": "code",
   "execution_count": null,
   "id": "edaa39f7-7cb3-43a5-881e-fca88dfca438",
   "metadata": {},
   "outputs": [],
   "source": []
  }
 ],
 "metadata": {
  "kernelspec": {
   "display_name": "Python 3 (ipykernel)",
   "language": "python",
   "name": "python3"
  },
  "language_info": {
   "codemirror_mode": {
    "name": "ipython",
    "version": 3
   },
   "file_extension": ".py",
   "mimetype": "text/x-python",
   "name": "python",
   "nbconvert_exporter": "python",
   "pygments_lexer": "ipython3",
   "version": "3.10.12"
  }
 },
 "nbformat": 4,
 "nbformat_minor": 5
}
