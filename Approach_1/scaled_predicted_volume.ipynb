{
 "cells": [
  {
   "cell_type": "code",
   "execution_count": 19,
   "id": "16f392ff-d484-449f-b36d-9badd1819af7",
   "metadata": {},
   "outputs": [],
   "source": [
    "# Applied linear ligression to find the optimal scaling factor for predicted volume.\n",
    "# find out absolute and percentage error"
   ]
  },
  {
   "cell_type": "code",
   "execution_count": 20,
   "id": "546d31a6-f97e-402a-92fc-e6ad1ee576f1",
   "metadata": {},
   "outputs": [],
   "source": [
    "import pandas as pd\n",
    "import numpy as np\n",
    "from sklearn.linear_model import LinearRegression\n",
    "from sklearn.metrics import mean_squared_error\n",
    "from sklearn.model_selection import train_test_split\n",
    "\n",
    "df_predicted = pd.read_csv('../Data/predicted_volume.csv')\n",
    "X = df_predicted['predicted_volume'].tolist()\n",
    "df_true = pd.read_csv('../Data/apple_volume_mapper.csv')\n",
    "Y = df_true['Volume'].tolist()\n",
    "# Removing element from 0th and 2nd index\n",
    "Y = Y[1:2] + Y[3:]"
   ]
  },
  {
   "cell_type": "code",
   "execution_count": 21,
   "id": "6e6cc9fc-d2b9-461e-b3f2-a3b5cca1df5d",
   "metadata": {},
   "outputs": [
    {
     "name": "stdout",
     "output_type": "stream",
     "text": [
      "Mean Square Error (MSE): 369.8105334780581\n",
      "Root Mean Square Error (RMSE): 19.23045848330346\n",
      "Mean Absolute Percentage Error (MPE): 9.829066171522236\n"
     ]
    }
   ],
   "source": [
    "seeds = [0, 10, 20, 30, 40, 50, 60, 70, 80, 90]\n",
    "\n",
    "mses = []\n",
    "mpes = []\n",
    "for seed in seeds:\n",
    "    X_train, X_test, Y_train, Y_test = train_test_split(X, Y, test_size=0.2, random_state=seed)  \n",
    "    \n",
    "    X_train_array = np.array(X_train).reshape(-1, 1)\n",
    "    Y_train_array = np.array(Y_train)\n",
    "    X_test_array = np.array(X_test).reshape(-1, 1)\n",
    "    Y_test_array = np.array(Y_test)\n",
    "    \n",
    "    model = LinearRegression()\n",
    "    model.fit(X_train_array, Y_train_array)\n",
    "    scaled_predicted_values = model.predict(X_test_array)\n",
    "    mse = mean_squared_error(Y_test_array, scaled_predicted_values)\n",
    "    percentage_errors = [abs(actual - predicted) / actual * 100 for actual, predicted in zip(Y_test_array, scaled_predicted_values)]\n",
    "    mses.append(mse)\n",
    "    mpes.append(np.mean(percentage_errors))\n",
    "\n",
    "mse = np.mean(mses)\n",
    "mpe = np.mean(mpes)\n",
    "print(\"Mean Square Error (MSE):\", mse)\n",
    "print(\"Root Mean Square Error (RMSE):\", mse ** 0.5)\n",
    "print(\"Mean Absolute Percentage Error (MPE):\", mpe)"
   ]
  },
  {
   "cell_type": "code",
   "execution_count": 22,
   "id": "170b32ea-18d9-486c-8008-388538e83832",
   "metadata": {},
   "outputs": [],
   "source": [
    "X_array = np.array(X).reshape(-1, 1)\n",
    "Y_array = np.array(Y)\n",
    "scaled_predicted_values = model.predict(X_array)"
   ]
  },
  {
   "cell_type": "code",
   "execution_count": 23,
   "id": "7b12e73d-d032-4654-b65d-9ef611072d91",
   "metadata": {},
   "outputs": [],
   "source": [
    "absolute_errors = [abs(y - scaled_predicted_value) for y, scaled_predicted_value in zip(Y_array, scaled_predicted_values)]\n",
    "percentage_errors = [abs((y - scaled_predicted_value) / y) * 100 for y, scaled_predicted_value in zip(Y_array, scaled_predicted_values)]"
   ]
  },
  {
   "cell_type": "code",
   "execution_count": 24,
   "id": "9836c7ab-025e-4cf6-8451-9d8ad9a0dc67",
   "metadata": {},
   "outputs": [],
   "source": [
    "df = pd.DataFrame({'true_volume': Y_array, 'scaled_predicted_volume': scaled_predicted_values, 'absolute_error': absolute_errors, 'percentage_error': percentage_errors})"
   ]
  },
  {
   "cell_type": "code",
   "execution_count": 25,
   "id": "a495e6ed-287f-41c1-ad64-06caf762054f",
   "metadata": {},
   "outputs": [],
   "source": [
    "df = df.round(2)\n",
    "df.to_csv('../Data/scaled_predicted_volume.csv', index=False)"
   ]
  }
 ],
 "metadata": {
  "kernelspec": {
   "display_name": "Python 3 (ipykernel)",
   "language": "python",
   "name": "python3"
  },
  "language_info": {
   "codemirror_mode": {
    "name": "ipython",
    "version": 3
   },
   "file_extension": ".py",
   "mimetype": "text/x-python",
   "name": "python",
   "nbconvert_exporter": "python",
   "pygments_lexer": "ipython3",
   "version": "3.10.12"
  }
 },
 "nbformat": 4,
 "nbformat_minor": 5
}
