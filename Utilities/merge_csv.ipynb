{
 "cells": [
  {
   "cell_type": "code",
   "execution_count": null,
   "id": "46f10c53-b0b9-4672-a172-18444ef2ef52",
   "metadata": {},
   "outputs": [],
   "source": [
    "import pandas as pd\n",
    "\n",
    "df1 = pd.read_csv('../Data/fitted_ellipse_parameter_1.csv')\n",
    "df2 = pd.read_csv('../Data/fitted_ellipse_parameter_2.csv')\n",
    "df3 = pd.read_csv('../Data/fitted_ellipse_parameter_3.csv')\n",
    "df4 = pd.read_csv('../Data/fitted_ellipse_parameter_4.csv')\n",
    "\n",
    "merged_df = pd.concat([df1, df2, df3, df4], ignore_index=True)\n",
    "merged_df.to_csv('../Data/fitted_ellipse_parameter_4.csv', index=False)"
   ]
  }
 ],
 "metadata": {
  "kernelspec": {
   "display_name": "Python 3 (ipykernel)",
   "language": "python",
   "name": "python3"
  },
  "language_info": {
   "codemirror_mode": {
    "name": "ipython",
    "version": 3
   },
   "file_extension": ".py",
   "mimetype": "text/x-python",
   "name": "python",
   "nbconvert_exporter": "python",
   "pygments_lexer": "ipython3",
   "version": "3.10.12"
  }
 },
 "nbformat": 4,
 "nbformat_minor": 5
}
