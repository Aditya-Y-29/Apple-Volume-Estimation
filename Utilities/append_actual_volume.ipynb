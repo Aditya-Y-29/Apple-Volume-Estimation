{
 "cells": [
  {
   "cell_type": "code",
   "execution_count": 3,
   "metadata": {},
   "outputs": [],
   "source": [
    "import pandas as pd\n",
    "\n",
    "# Load the datasets\n",
    "predicted_volumes_df = pd.read_csv('../Data/avg_svm_predictions_views.csv')\n",
    "actual_volumes_df = pd.read_csv('../Data/true_volume.csv')\n",
    "\n",
    "# Merge the datasets on the apple number\n",
    "merged_df = pd.merge(predicted_volumes_df, actual_volumes_df, left_on='apple_number', right_on='Apple No.')\n",
    "\n",
    "# Drop the extra 'Apple No.' column\n",
    "merged_df.drop(columns=['Apple No.'], inplace=True)\n",
    "\n",
    "# Save the merged dataset with actual volumes appended\n",
    "merged_df.to_csv('../Data/avg_svm_predictions_views_with_true_volume.csv', index=False)"
   ]
  },
  {
   "cell_type": "code",
   "execution_count": null,
   "metadata": {},
   "outputs": [],
   "source": []
  }
 ],
 "metadata": {
  "kernelspec": {
   "display_name": "Python 3",
   "language": "python",
   "name": "python3"
  },
  "language_info": {
   "codemirror_mode": {
    "name": "ipython",
    "version": 3
   },
   "file_extension": ".py",
   "mimetype": "text/x-python",
   "name": "python",
   "nbconvert_exporter": "python",
   "pygments_lexer": "ipython3",
   "version": "3.12.1"
  }
 },
 "nbformat": 4,
 "nbformat_minor": 2
}
