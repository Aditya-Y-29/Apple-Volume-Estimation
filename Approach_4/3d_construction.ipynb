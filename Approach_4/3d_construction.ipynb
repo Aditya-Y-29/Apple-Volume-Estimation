{
 "cells": [
  {
   "cell_type": "code",
   "execution_count": null,
   "id": "9a28d1df-e34a-4693-826f-7bc21a358522",
   "metadata": {},
   "outputs": [],
   "source": [
    "import cv2\n",
    "import matplotlib.pyplot as plt\n",
    "\n",
    "# List of image paths\n",
    "image_paths = ['../Dataset_Cropped/3a.jpg', '../Dataset_Cropped/3b.jpg', '../Dataset_Cropped/3c.jpg',\n",
    "               '../Dataset_Cropped/3d.jpg', '../Dataset_Cropped/3e.jpg', '../Dataset_Cropped/3f.jpg',\n",
    "               '../Dataset_Cropped/3g.jpg', '../Dataset_Cropped/3h.jpg', '../Dataset_Cropped/3i.jpg']\n",
    "\n",
    "# Initialize A-KAZE detector and descriptor\n",
    "akaze = cv2.AKAZE_create()\n",
    "\n",
    "# Initialize brute-force matcher\n",
    "bf = cv2.BFMatcher(cv2.NORM_HAMMING, crossCheck=True)\n",
    "\n",
    "num_of_images = len(image_paths) - 3\n",
    "\n",
    "# Plotting parameters\n",
    "rows = num_of_images\n",
    "cols = num_of_images\n",
    "\n",
    "fig, axes = plt.subplots(rows, cols, figsize=(15, 15))\n",
    "\n",
    "# Loop through each pair of images\n",
    "for i in range(num_of_images):\n",
    "    for j in range(num_of_images):\n",
    "        # if i < j:  # Exclude comparison with itself\n",
    "            # print(i, j)\n",
    "            # Load the input images\n",
    "        image1 = cv2.imread(image_paths[i], cv2.IMREAD_GRAYSCALE)\n",
    "        image2 = cv2.imread(image_paths[j], cv2.IMREAD_GRAYSCALE)\n",
    "\n",
    "        # Detect and compute keypoints and descriptors\n",
    "        keypoints1, descriptors1 = akaze.detectAndCompute(image1, None)\n",
    "        keypoints2, descriptors2 = akaze.detectAndCompute(image2, None)\n",
    "\n",
    "        # Match descriptors\n",
    "        matches = bf.match(descriptors1, descriptors2)\n",
    "\n",
    "        # Sort matches by distance\n",
    "        matches = sorted(matches, key=lambda x: x.distance)\n",
    "\n",
    "        # Draw top matches\n",
    "        matching_result = cv2.drawMatches(image1, keypoints1, image2, keypoints2, matches[:10], None, flags=cv2.DrawMatchesFlags_NOT_DRAW_SINGLE_POINTS)\n",
    "\n",
    "        # Convert BGR image to RGB for Matplotlib\n",
    "        matching_result_rgb = cv2.cvtColor(matching_result, cv2.COLOR_BGR2RGB)\n",
    "\n",
    "        # Plot the matching result using Matplotlib\n",
    "        axes[i, j].imshow(matching_result_rgb)\n",
    "        axes[i, j].axis('off')\n",
    "        axes[i, j].set_title(f'Matching Result {i} - {j}')\n",
    "\n",
    "# Adjust layout\n",
    "plt.tight_layout()\n",
    "plt.show()"
   ]
  },
  {
   "cell_type": "code",
   "execution_count": null,
   "id": "1f6454cb-814d-450f-b652-77ae36e38b9e",
   "metadata": {},
   "outputs": [],
   "source": []
  }
 ],
 "metadata": {
  "kernelspec": {
   "display_name": "Python 3 (ipykernel)",
   "language": "python",
   "name": "python3"
  },
  "language_info": {
   "codemirror_mode": {
    "name": "ipython",
    "version": 3
   },
   "file_extension": ".py",
   "mimetype": "text/x-python",
   "name": "python",
   "nbconvert_exporter": "python",
   "pygments_lexer": "ipython3",
   "version": "3.10.12"
  }
 },
 "nbformat": 4,
 "nbformat_minor": 5
}
