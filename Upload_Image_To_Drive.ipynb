{
 "cells": [
  {
   "cell_type": "code",
   "execution_count": 50,
   "id": "83a903ac-00c1-428a-9665-bba8b7284cdb",
   "metadata": {},
   "outputs": [],
   "source": [
    "import pandas as pd\n",
    "from google.oauth2 import service_account\n",
    "from googleapiclient.discovery import build\n",
    "from googleapiclient.http import MediaIoBaseDownload\n",
    "from googleapiclient.http import MediaFileUpload\n",
    "import io\n",
    "from googleapiclient.errors import HttpError\n",
    "from dotenv import load_dotenv\n",
    "import os"
   ]
  },
  {
   "cell_type": "code",
   "execution_count": 51,
   "id": "c1b85f3a-dd6c-4fdd-8802-7ed47b695c68",
   "metadata": {},
   "outputs": [],
   "source": [
    "# Load environment variables from .env file\n",
    "load_dotenv()\n",
    "\n",
    "key_file_name = os.getenv('KEY_FILE_NAME')\n",
    "folder_id = os.getenv('MY_FOLDER_ID')\n",
    "dataset_folder = os.getenv('DATASET_PATH')"
   ]
  },
  {
   "cell_type": "code",
   "execution_count": 52,
   "id": "e17f48b6-c22f-49f4-aa8b-35cdae662e38",
   "metadata": {},
   "outputs": [
    {
     "name": "stdout",
     "output_type": "stream",
     "text": [
      "Signature.jpg\n"
     ]
    }
   ],
   "source": [
    "scope = ['https://www.googleapis.com/auth/drive']\n",
    "\n",
    "current_directory = os.getcwd()\n",
    "service_account_json_key = os.path.join(current_directory, key_file_name)\n",
    "\n",
    "credentials = service_account.Credentials.from_service_account_file(\n",
    "                              filename=service_account_json_key, \n",
    "                              scopes=scope)\n",
    "\n",
    "service = build('drive', 'v3', credentials=credentials)"
   ]
  },
  {
   "cell_type": "code",
   "execution_count": 53,
   "id": "d6863b99-3c15-4176-9056-ef2cc8edecad",
   "metadata": {},
   "outputs": [
    {
     "name": "stdout",
     "output_type": "stream",
     "text": [
      "/home/ubuntu/py/CP303/Dataset/Signature.jpeg\n"
     ]
    }
   ],
   "source": [
    "image_path = os.path.join(current_directory, dataset_folder)"
   ]
  },
  {
   "cell_type": "code",
   "execution_count": 54,
   "id": "2d348a2d-1668-4102-bed7-f8ff4d86a2c7",
   "metadata": {},
   "outputs": [
    {
     "name": "stdout",
     "output_type": "stream",
     "text": [
      "<googleapiclient.http.MediaFileUpload object at 0x7f48e2916b90>\n",
      "File ID: 1UyR3RzikXf_ejlDabhm2sZ6KfrXyLYoM\n"
     ]
    }
   ],
   "source": [
    "image_name = 'Signature.jpeg'\n",
    "file_metadata = {'name': image_name}  \n",
    "media = MediaFileUpload(image_path, mimetype='image/jpeg')\n",
    "file_metadata['parents'] = [folder_id]\n",
    "file = service.files().create(body=file_metadata, media_body=media, fields='id').execute()\n",
    "print('File ID:', file.get('id'))"
   ]
  },
  {
   "cell_type": "code",
   "execution_count": null,
   "id": "dd44eec0-d180-46dd-a46b-8ca809dc7b21",
   "metadata": {},
   "outputs": [],
   "source": []
  },
  {
   "cell_type": "code",
   "execution_count": null,
   "id": "33ed58d2-5149-41b2-a9d5-33aa9d5c0324",
   "metadata": {},
   "outputs": [],
   "source": []
  },
  {
   "cell_type": "code",
   "execution_count": null,
   "id": "6948f8c4-e06b-4f0b-bb6c-346310f2d005",
   "metadata": {},
   "outputs": [],
   "source": []
  },
  {
   "cell_type": "code",
   "execution_count": null,
   "id": "e5a2add4-ada2-4c66-b909-af0d7fb5c2fc",
   "metadata": {},
   "outputs": [],
   "source": []
  }
 ],
 "metadata": {
  "kernelspec": {
   "display_name": "Python 3 (ipykernel)",
   "language": "python",
   "name": "python3"
  },
  "language_info": {
   "codemirror_mode": {
    "name": "ipython",
    "version": 3
   },
   "file_extension": ".py",
   "mimetype": "text/x-python",
   "name": "python",
   "nbconvert_exporter": "python",
   "pygments_lexer": "ipython3",
   "version": "3.10.12"
  }
 },
 "nbformat": 4,
 "nbformat_minor": 5
}
